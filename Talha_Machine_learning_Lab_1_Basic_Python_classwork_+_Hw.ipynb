{
  "nbformat": 4,
  "nbformat_minor": 0,
  "metadata": {
    "colab": {
      "provenance": [],
      "authorship_tag": "ABX9TyMY0eYFTZg5eCmECD1SMVCN",
      "include_colab_link": true
    },
    "kernelspec": {
      "name": "python3",
      "display_name": "Python 3"
    },
    "language_info": {
      "name": "python"
    }
  },
  "cells": [
    {
      "cell_type": "markdown",
      "metadata": {
        "id": "view-in-github",
        "colab_type": "text"
      },
      "source": [
        "<a href=\"https://colab.research.google.com/github/imtalha2003/Birthdaywishes/blob/main/Talha_Machine_learning_Lab_1_Basic_Python_classwork_%2B_Hw.ipynb\" target=\"_parent\"><img src=\"https://colab.research.google.com/assets/colab-badge.svg\" alt=\"Open In Colab\"/></a>"
      ]
    },
    {
      "cell_type": "markdown",
      "source": [
        "#TALHA MEHMOOD KAYANI B22F0442AI089 AI BLUE"
      ],
      "metadata": {
        "id": "hHrks0Z_IRV_"
      }
    },
    {
      "cell_type": "markdown",
      "source": [
        "#Define Variable"
      ],
      "metadata": {
        "id": "Qt1fry3_tPrs"
      }
    },
    {
      "cell_type": "markdown",
      "source": [],
      "metadata": {
        "id": "zYKsUM4aIDYs"
      }
    },
    {
      "cell_type": "code",
      "execution_count": null,
      "metadata": {
        "colab": {
          "base_uri": "https://localhost:8080/"
        },
        "id": "Hr4JSsWeapz4",
        "outputId": "33a0ad16-811f-44ce-de6e-b6ade43bfa14"
      },
      "outputs": [
        {
          "output_type": "stream",
          "name": "stdout",
          "text": [
            "1 Talha\n"
          ]
        }
      ],
      "source": [
        "integer = 1\n",
        "string = \"Talha\"\n",
        "print(integer,string)"
      ]
    },
    {
      "cell_type": "markdown",
      "source": [
        "# IF else Task"
      ],
      "metadata": {
        "id": "d7PGoMpEf54F"
      }
    },
    {
      "cell_type": "code",
      "source": [
        "number = int(input(\"Enter a number between 1 and 3: \"))\n",
        "\n",
        "if number == 1:\n",
        "    print(\"It is 1\")\n",
        "elif number == 2:\n",
        "    print(\"It is 2\")\n",
        "else:\n",
        "    print(\"It is not 1 or 2, it's 3\")\n",
        "\n"
      ],
      "metadata": {
        "id": "LxOHhPNVf7pf"
      },
      "execution_count": null,
      "outputs": []
    },
    {
      "cell_type": "markdown",
      "source": [
        "#List first 3 numbers"
      ],
      "metadata": {
        "id": "JSrV7_ryfWC_"
      }
    },
    {
      "cell_type": "code",
      "source": [
        "numbers = [1, 2, 3, 4, 5]\n",
        "print(numbers[0:3])"
      ],
      "metadata": {
        "colab": {
          "base_uri": "https://localhost:8080/"
        },
        "id": "XnZUkCnpfZPN",
        "outputId": "fff2d3db-6f8b-41a6-f24d-d7fd9e75500f"
      },
      "execution_count": null,
      "outputs": [
        {
          "output_type": "stream",
          "name": "stdout",
          "text": [
            "[1, 2, 3]\n"
          ]
        }
      ]
    },
    {
      "cell_type": "markdown",
      "source": [
        "# Function to multiply 2 numbers"
      ],
      "metadata": {
        "id": "iXg45ON2gCz4"
      }
    },
    {
      "cell_type": "code",
      "source": [
        "def calculation(num1, num2):\n",
        "    print(num1 * num2)\n",
        "\n",
        "num1 = int(input(\"Enter first number: \"))\n",
        "num2 = int(input(\"Enter second number: \"))\n",
        "\n",
        "calculation(num1, num2)\n",
        "\n"
      ],
      "metadata": {
        "colab": {
          "base_uri": "https://localhost:8080/"
        },
        "id": "hv7C1lIXgEP-",
        "outputId": "e15c8652-4ec8-4147-a3ac-0d76e08221c9"
      },
      "execution_count": null,
      "outputs": [
        {
          "output_type": "stream",
          "name": "stdout",
          "text": [
            "Enter first number: 2\n",
            "Enter second number: 3\n",
            "6\n"
          ]
        }
      ]
    },
    {
      "cell_type": "markdown",
      "source": [
        "# Numpy Task"
      ],
      "metadata": {
        "id": "Y9J5qLaOixyB"
      }
    },
    {
      "cell_type": "code",
      "source": [
        "import numpy as np\n",
        "\n",
        "numbers = np.array([1, 2, 3, 4, 5])\n",
        "\n",
        "print(numbers)\n"
      ],
      "metadata": {
        "id": "HJ5wOF8ai08K"
      },
      "execution_count": null,
      "outputs": []
    },
    {
      "cell_type": "markdown",
      "source": [
        "#Pandas Task"
      ],
      "metadata": {
        "id": "E8PT357_jtEM"
      }
    },
    {
      "cell_type": "code",
      "source": [
        "import pandas as pd\n",
        "\n",
        "data = {\"Name\": [\"Talha\", \"Ali\", \"Anees\"], \"Age\": [23, 27, 30]}\n",
        "df = pd.DataFrame(data)\n",
        "print(df)"
      ],
      "metadata": {
        "id": "1caHTOAJjzF-"
      },
      "execution_count": null,
      "outputs": []
    },
    {
      "cell_type": "markdown",
      "source": [
        "#Home work Task 1"
      ],
      "metadata": {
        "id": "jyqL7DiplRRs"
      }
    },
    {
      "cell_type": "code",
      "source": [
        "\n",
        "def calculate_average(num1, num2, num3):\n",
        "    return (num1 + num2 + num3) / 3\n",
        "\n",
        "num1 = int(input(\"Enter the first number: \"))\n",
        "num2 = int(input(\"Enter the second number: \"))\n",
        "num3 = int(input(\"Enter the third number: \"))\n",
        "\n",
        "average = calculate_average(num1, num2, num3)\n",
        "print(f\"The average of {num1}, {num2}, and {num3} is: {average}\")\n",
        "\n",
        "print(\"Even numbers from 1 to 10 are:\")\n",
        "for i in range(1, 11):\n",
        "    if i % 2 == 0:\n",
        "        print(i)\n"
      ],
      "metadata": {
        "id": "UkWGZJ7Gloz1"
      },
      "execution_count": null,
      "outputs": []
    },
    {
      "cell_type": "markdown",
      "source": [
        "#Homework task 2 Pandas Data Frame"
      ],
      "metadata": {
        "id": "sSpdB_TAoH2q"
      }
    },
    {
      "cell_type": "code",
      "source": [
        "import pandas as pd\n",
        "\n",
        "data = {'Age': [25, 32, 28, 40, 35],\n",
        "        'Salary': [50000, 60000, 55000, 65000, 70000],\n",
        "        'Department': ['HR', 'IT', 'Finance', 'HR', 'IT']}\n",
        "\n",
        "df = pd.DataFrame(data)\n",
        "\n",
        "\n",
        "print(\"Column names:\")\n",
        "print(df.columns)\n",
        "\n",
        "\n",
        "print(\"\\nSummary statistics for numerical columns:\")\n",
        "print(df.describe())"
      ],
      "metadata": {
        "id": "VzfpgkQ0oZ12"
      },
      "execution_count": null,
      "outputs": []
    },
    {
      "cell_type": "markdown",
      "source": [
        "#Homework TAsk 2 Numpy"
      ],
      "metadata": {
        "id": "jWvbUib-tIFG"
      }
    },
    {
      "cell_type": "code",
      "source": [
        "import numpy as np\n",
        "\n",
        "random_numbers = np.random.randint(1,100,10)\n",
        "\n",
        "\n",
        "std_dev = np.std(random_numbers)\n",
        "\n",
        "print(\"Array of random numbers:\")\n",
        "print(random_numbers)\n",
        "\n",
        "print(\"\\nStandard Deviation:\")\n",
        "print(std_dev)\n",
        "\n"
      ],
      "metadata": {
        "id": "nVpmZebptMv2",
        "colab": {
          "base_uri": "https://localhost:8080/"
        },
        "outputId": "63b9463c-e3f1-474c-b35f-4d9a16b81320"
      },
      "execution_count": null,
      "outputs": [
        {
          "output_type": "stream",
          "name": "stdout",
          "text": [
            "Array of random numbers:\n",
            "[15 49 94 75 56  8 97 98 78 55]\n",
            "\n",
            "Standard Deviation:\n",
            "30.572046055179232\n"
          ]
        }
      ]
    },
    {
      "cell_type": "markdown",
      "source": [],
      "metadata": {
        "id": "ynGisbtaeFgr"
      }
    },
    {
      "cell_type": "markdown",
      "source": [
        "#ADDITIONAL TASKS"
      ],
      "metadata": {
        "id": "XuhFkF8zeGWa"
      }
    },
    {
      "cell_type": "markdown",
      "source": [
        "# 1 Script thats take user first and last name and combine them to say welcome"
      ],
      "metadata": {
        "id": "2BjJSiFIeOrQ"
      }
    },
    {
      "cell_type": "code",
      "source": [
        "Fname = input(\"Enter your First name \")\n",
        "Lname =  input (\"Enter your last name \")\n",
        "print(\"Welcome ! \"+\" \" + Fname + \" \" + Lname)\n"
      ],
      "metadata": {
        "id": "YLmqNzrfeUWb"
      },
      "execution_count": null,
      "outputs": []
    },
    {
      "cell_type": "markdown",
      "source": [
        "\n",
        "#List of 5 cities using loop to print them in upper case"
      ],
      "metadata": {
        "id": "M5y7g6iOeX1H"
      }
    },
    {
      "cell_type": "code",
      "source": [
        "cities = ['Haripur' , 'Abbottabad' , 'Islamabad' , 'Peshawar' , 'Rawalpindi']\n",
        "for city in cities:\n",
        "  print(city.upper())"
      ],
      "metadata": {
        "id": "KzRgkuwfec5R"
      },
      "execution_count": null,
      "outputs": []
    },
    {
      "cell_type": "markdown",
      "source": [
        "#Task: 2\n",
        "  1. Write a Python function that accepts a list of numbers and returns the maximum number.\n",
        "  \n",
        "\n"
      ],
      "metadata": {
        "id": "VqBpfw-9eftH"
      }
    },
    {
      "cell_type": "code",
      "source": [
        "def max_number(numbers):\n",
        "    max_num = numbers[0]\n",
        "    for num in numbers:\n",
        "        if num > max_num:\n",
        "            max_num = num\n",
        "    return max_num\n",
        "\n",
        "numbers = [1, 2, 3, 4, 5, 6, 7, 8, 9, 10]\n",
        "max_num = max_number(numbers)\n",
        "print(\"The maximum number is:\", max_num)\n"
      ],
      "metadata": {
        "id": "sowf2LkMei3y"
      },
      "execution_count": null,
      "outputs": []
    },
    {
      "cell_type": "markdown",
      "source": [
        "#Task 2\n",
        "2. Write another function that checks if a number is prime.\n",
        "  3. Create a loop that calls the prime-checking function on numbers from 1 to 20 and prints whether each number is prime or not."
      ],
      "metadata": {
        "id": "Jjn7CjJxelUm"
      }
    },
    {
      "cell_type": "code",
      "source": [
        "\n",
        "def is_prime(number):\n",
        "    if number < 2:\n",
        "        return False\n",
        "    for i in range(2, int(number ** 0.5) + 1):\n",
        "        if number % i == 0:\n",
        "            return False\n",
        "    return True\n",
        "\n",
        "for num in range(1, 21):\n",
        "    if is_prime(num):\n",
        "        print(f\"{num} is a prime number.\")\n",
        "    else:\n",
        "        print(f\"{num} is not a prime number.\")\n"
      ],
      "metadata": {
        "id": "lR26L7kzeonp"
      },
      "execution_count": null,
      "outputs": []
    },
    {
      "cell_type": "markdown",
      "source": [
        "#Task: 3\n",
        "  1. Create a NumPy array of 10 random integers between 1 and 50.\n",
        "  2. Calculate the sum, mean, and standard deviation of the array.\n",
        "  3. Sort the array in ascending order and print the sorted array.\n"
      ],
      "metadata": {
        "id": "RkQHhcAUeq3R"
      }
    },
    {
      "cell_type": "code",
      "source": [
        "import numpy as np\n",
        "\n",
        "# 1.  NumPy array of 10 random integers between 1 and 50\n",
        "random_array = np.random.randint(1, 51, size=10)\n",
        "print(\"Random Array:\", random_array)\n",
        "\n",
        "# 2. Calculate the sum, mean, and standard deviation of the array\n",
        "array_sum = np.sum(random_array)\n",
        "array_mean = np.mean(random_array)\n",
        "array_std = np.std(random_array)\n",
        "\n",
        "print(\"Sum:\", array_sum)\n",
        "print(\"Mean:\", array_mean)\n",
        "print(\"Standard Deviation:\", array_std)\n",
        "\n",
        "# 3. Sort the array in ascending order and print the sorted array\n",
        "sorted_array = np.sort(random_array)\n",
        "print(\"Sorted Array:\", sorted_array)\n"
      ],
      "metadata": {
        "id": "Ep03npw0euYK"
      },
      "execution_count": null,
      "outputs": []
    },
    {
      "cell_type": "markdown",
      "source": [
        "#Task: 4\n",
        "  1. Create a Pandas DataFrame with three columns: Name, Age, and Score.\n",
        "  2. Add data for at least five students.\n",
        "  3. Calculate the average score and filter out students who scored below 70.\n",
        "  4. Print the names of students who passed (scored 70 or above).\n"
      ],
      "metadata": {
        "id": "-ixKt_09ewef"
      }
    },
    {
      "cell_type": "code",
      "source": [
        "import pandas as pd\n",
        "data = {\n",
        "    'Name': ['Talha', 'ali', 'anees', 'moheed', 'muzammil'],\n",
        "    'Age': [20, 21, 19, 22, 20],\n",
        "    'Score': [85, 67, 90, 75, 60]\n",
        "}\n",
        "\n",
        "df = pd.DataFrame(data)\n",
        "print(\"DataFrame:\\n\", df)\n",
        "\n",
        "average_score = df['Score'].mean()\n",
        "print(\"\\nAverage Score:\", average_score)\n",
        "\n",
        "passed_students = df[df['Score'] >= 70]\n",
        "\n",
        "print(\"\\nStudents who passed (scored 70 or above):\")\n",
        "print(passed_students['Name'].to_list())\n"
      ],
      "metadata": {
        "id": "9kDxXRmve0NQ"
      },
      "execution_count": null,
      "outputs": []
    },
    {
      "cell_type": "markdown",
      "source": [
        "#Last task Fibonnacci numbers"
      ],
      "metadata": {
        "id": "KeLHKdoRe2iX"
      }
    },
    {
      "cell_type": "code",
      "source": [
        "def fibonacci(n):\n",
        "    fib_sequence = [0, 1]\n",
        "    while len(fib_sequence) < n:\n",
        "        fib_sequence.append(fib_sequence[-1] + fib_sequence[-2])\n",
        "    return fib_sequence\n",
        "\n",
        "#Generate the first 10 Fibonacci numbers\n",
        "n = 10\n",
        "fib_numbers = fibonacci(n)\n",
        "print(fib_numbers)\n"
      ],
      "metadata": {
        "id": "Y1vCO9R-e5fW"
      },
      "execution_count": null,
      "outputs": []
    }
  ]
}